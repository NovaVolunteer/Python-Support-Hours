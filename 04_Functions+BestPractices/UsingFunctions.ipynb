{
 "cells": [
  {
   "cell_type": "markdown",
   "metadata": {},
   "source": [
    "## Using Built in Functions & Best Practices"
   ]
  },
  {
   "cell_type": "markdown",
   "metadata": {},
   "source": [
    "[![Open In Colab](https://colab.research.google.com/assets/colab-badge.svg)](https://colab.research.google.com/github/ali-rivera/Python-Support-Hours/blob/main/4_Functions%2BBestPractices/UsingFunctions.ipynb)\n",
    "\n",
    "Welcome back to Python!! \n",
    "\n",
    "In this notebook we'll talk about how to use functions and some best practices to make sure that your code is readible (for humans and the computer!) and executes as you intend it to."
   ]
  },
  {
   "cell_type": "markdown",
   "metadata": {},
   "source": [
    "## Using Functions"
   ]
  },
  {
   "cell_type": "markdown",
   "metadata": {},
   "source": [
    "Functions are blocks of code build by others than can be called with the name to perform a specific function. There are built in Python functions, but you can add more funtions to your environment by importing packages like `NumPy`, `pandas`, `scikitlearn`. Each has it's own focus and applications."
   ]
  },
  {
   "cell_type": "markdown",
   "metadata": {},
   "source": [
    "You use a function by calling its name, and usually providing some input into the () after the name. This input is usually refered to as the parameters or arguments of the function. See below for an example with the `type()` funtion."
   ]
  },
  {
   "cell_type": "code",
   "execution_count": 5,
   "metadata": {},
   "outputs": [
    {
     "data": {
      "text/plain": [
       "list"
      ]
     },
     "execution_count": 5,
     "metadata": {},
     "output_type": "execute_result"
    }
   ],
   "source": [
    "list1 = [\"string\", 0, 1.23, False] \n",
    "\n",
    "type(list1)"
   ]
  },
  {
   "cell_type": "markdown",
   "metadata": {},
   "source": [
    "The name of the funtion is type and the input we supplied was the name of the variable. The funtion returns the data type of the input given, in this case, `list1` is a list."
   ]
  },
  {
   "cell_type": "markdown",
   "metadata": {},
   "source": [
    "Some functions must be called on an object like a variable or imported package. Here are a few examples of what that looks like:"
   ]
  },
  {
   "cell_type": "code",
   "execution_count": 6,
   "metadata": {},
   "outputs": [
    {
     "data": {
      "text/plain": [
       "'THIS IS A STRING!'"
      ]
     },
     "execution_count": 6,
     "metadata": {},
     "output_type": "execute_result"
    }
   ],
   "source": [
    "## upper() is a string function that returns the characters in uppercase\n",
    "str1 = \"This is a string!\" \n",
    "\n",
    "str1.upper()"
   ]
  },
  {
   "cell_type": "markdown",
   "metadata": {},
   "source": [
    "Note that `.upper()` returns the string in uppercase, but does not change the value associated with the variable. If you look at `str1` below, the value is still saved in it's original form. In order to change `str1` to the uppercase with this function, we would have to reassign it with `str1 = str1.upper()`."
   ]
  },
  {
   "cell_type": "code",
   "execution_count": 7,
   "metadata": {},
   "outputs": [
    {
     "data": {
      "text/plain": [
       "'This is a string!'"
      ]
     },
     "execution_count": 7,
     "metadata": {},
     "output_type": "execute_result"
    }
   ],
   "source": [
    "str1"
   ]
  },
  {
   "cell_type": "code",
   "execution_count": 8,
   "metadata": {},
   "outputs": [
    {
     "data": {
      "text/plain": [
       "-0.2710490418795483"
      ]
     },
     "execution_count": 8,
     "metadata": {},
     "output_type": "execute_result"
    }
   ],
   "source": [
    "import numpy as np\n",
    "np.random.randn()"
   ]
  },
  {
   "cell_type": "markdown",
   "metadata": {},
   "source": [
    "In the above cell we call the random class from the package `NumPy` (more on classes another day!). \n",
    "\n",
    "This class has a function `randn()` that produces a random number. There are several functions in this class that produce a random number, `rand()`, `randint()`, `random()`, `random_sample()`... keeping track of these can be confusing.\n",
    "\n",
    "Luckily, there is **documentation** for each function that describes:\n",
    "- what it does\n",
    "- the output\n",
    "- the needed input (aka the parameters/arguments)\n",
    "- (usually) examples of using the function\n",
    "\n",
    "**Looking at documentation when coding is a best practice that you should get comfortable with. It is impossible to memorize all the functions in Python and the packages you will be using in Python. Being comfortable reading documentation is a vital piece of advancing your coding skills!**"
   ]
  },
  {
   "cell_type": "markdown",
   "metadata": {},
   "source": [
    "Using the documentation for this function, which can be found here (or by doing a quick internet search like \"numpy randn()\"): <https://numpy.org/doc/stable/reference/random/generated/numpy.random.randn.html>, we see that `randn()` returns a random number in the normal distribution, and when no paramters are given it returns 1 random number. We can specify a shape in the parameters to get more than one random number at once."
   ]
  },
  {
   "cell_type": "code",
   "execution_count": 9,
   "metadata": {},
   "outputs": [
    {
     "data": {
      "text/plain": [
       "array([ 0.88243254,  0.98525608, -0.89442965, -0.20001214])"
      ]
     },
     "execution_count": 9,
     "metadata": {},
     "output_type": "execute_result"
    }
   ],
   "source": [
    "## create 4 random numbers\n",
    "np.random.randn(4)"
   ]
  },
  {
   "cell_type": "code",
   "execution_count": 10,
   "metadata": {},
   "outputs": [
    {
     "data": {
      "text/plain": [
       "array([[ 0.96648916, -0.72391176, -0.8234574 ,  1.00862971, -0.02606682],\n",
       "       [-0.75121825, -0.5760297 , -1.94033924, -0.55257836, -0.26802684],\n",
       "       [ 0.827657  ,  1.61511599,  1.76781802,  1.75939714, -0.30576376],\n",
       "       [ 0.74222921, -0.05731618, -0.69960689, -1.33193878, -0.28698843],\n",
       "       [ 0.05812242, -0.17211405,  0.31155294,  0.42033119,  0.33583849]])"
      ]
     },
     "execution_count": 10,
     "metadata": {},
     "output_type": "execute_result"
    }
   ],
   "source": [
    "## create an 5x5 array of random numbers\n",
    "np.random.randn(5,5)"
   ]
  },
  {
   "cell_type": "markdown",
   "metadata": {},
   "source": [
    "## Sequencing"
   ]
  },
  {
   "cell_type": "markdown",
   "metadata": {},
   "source": [
    "When you write code, it executes from top to bottom. In the case of Jupyter notebooks, it executes in the order you play the cells. This is beneficial for learning to code and seeing output for small chunks of code, but you should still write your code so that it can be ran from top to bottom and produce the outcome you intended. See below for an example of how changing the order of code changes the outcome."
   ]
  },
  {
   "cell_type": "code",
   "execution_count": 11,
   "metadata": {},
   "outputs": [
    {
     "name": "stdout",
     "output_type": "stream",
     "text": [
      "testtesttesttesttesttest\n",
      "a= 6\n",
      "b= 2\n"
     ]
    }
   ],
   "source": [
    "a = 3\n",
    "b = 2\n",
    "a *= b # a = a * b = 6\n",
    "c = \"test\"\n",
    "test_str = c * a # here a is now = 6\n",
    "\n",
    "print(test_str)\n",
    "print(\"a=\",a)\n",
    "print(\"b=\",b)"
   ]
  },
  {
   "cell_type": "code",
   "execution_count": 12,
   "metadata": {},
   "outputs": [
    {
     "name": "stdout",
     "output_type": "stream",
     "text": [
      "testtesttest\n",
      "a= 6\n",
      "b= 2\n"
     ]
    }
   ],
   "source": [
    "a = 3\n",
    "b = 2\n",
    "c = \"test\"\n",
    "test_str = c * a # here a still = 3\n",
    "\n",
    "a *= b # a = a * b = 6\n",
    "\n",
    "print(test_str)\n",
    "print(\"a=\",a)\n",
    "print(\"b=\",b)"
   ]
  },
  {
   "cell_type": "markdown",
   "metadata": {},
   "source": [
    "Changing the position of `a *= b` in reference changes how `test_str` is assigned based on the present value of `a`. Notice that while `a` ends up being 6 by the end in both cases, `test_str` is different because of the chronological order of the code. Keep this in mind as you're building your code, and keep your code blocks in the order they should be run in!"
   ]
  },
  {
   "cell_type": "markdown",
   "metadata": {},
   "source": [
    "## Commenting"
   ]
  },
  {
   "cell_type": "markdown",
   "metadata": {},
   "source": [
    "Code is the way you tell your computer what to do, but code files are not just for computers to read. When you build your code, you should build it so that a human can read it as well. That human could be another person working on a project with you that needs to understand what you've done in order to contribute, another human helping you debug, or YOU days or weeks from now having completely forgotten what you were doing in your code."
   ]
  },
  {
   "cell_type": "markdown",
   "metadata": {},
   "source": [
    "**Commenting** is a way of adding plain text to your code to make it easily comprehensible to a human reading it. A rule of thumb I use is adding comments with the assumption that I will completely forget what I was trying to do the second I close my computer. This way, you provide enough detail that you can pick back up where you left off without having to trace through each line of code. Here are some ways you can add comments in your code."
   ]
  },
  {
   "cell_type": "markdown",
   "metadata": {},
   "source": [
    "#### Metadata"
   ]
  },
  {
   "cell_type": "code",
   "execution_count": 13,
   "metadata": {},
   "outputs": [],
   "source": [
    "'''\n",
    "Week2_Resources.ipynb\n",
    "Author: Ali Rivera\n",
    "Last update:   9/11/23\n",
    "\n",
    "Document outlining foundational Python elements including data types, functions, and best practices.\n",
    "'''\n",
    "\n",
    "# import packages \n",
    "## a few examples of common package imports\n",
    "import numpy as np\n",
    "import math\n",
    "import pandas as pd\n"
   ]
  },
  {
   "cell_type": "markdown",
   "metadata": {},
   "source": [
    "Usually at the top of a code file you'll have a section of metadata (data about the file) with the file name, author, date, and a description. Following this you would have all your package imports that you use throughout the file. This is not mandatory, but is good practice to keep your code organized."
   ]
  },
  {
   "cell_type": "markdown",
   "metadata": {},
   "source": [
    "#### Ways to comment/markup your code"
   ]
  },
  {
   "cell_type": "code",
   "execution_count": 14,
   "metadata": {},
   "outputs": [],
   "source": [
    "# you can also add comments with a #\n",
    "##You can add additional # or use spacing to help organize your comments\n",
    "\n",
    "some_variable = True # you can also add comments on a line of code - anything after the # will be a comment!"
   ]
  },
  {
   "cell_type": "markdown",
   "metadata": {},
   "source": [
    "You can also add markdown cells for longer form comments.\n",
    "\n",
    "In a markdown cell, you can use formatting like:\n",
    "- *italics*, \n",
    "- **bold**, \n",
    "- ***bold italics***,\n",
    "- `code`, \n",
    "- equations $e=mc^2$ and more. \n",
    "\n",
    "Double click on this cell to see how this formatting is applied."
   ]
  },
  {
   "cell_type": "markdown",
   "metadata": {},
   "source": [
    "The # can be used to create Titles and Subtitles in a markdown cell. One # is a main title, additional # make subtitles. Click on one of the section titles in this notebook to see an example!\n",
    "\n",
    "For more information on markdown formatting, check out this page: https://www.markdownguide.org/cheat-sheet"
   ]
  },
  {
   "cell_type": "markdown",
   "metadata": {},
   "source": [
    "## Next Steps...\n",
    "Pull up an assignment or project you've completed in Python and review it for the following:\n",
    "- You probably used functions without realizing it - see if you can find a few places where you used a function. Look up the documentation for those functions - reading documentation is a KEY piece of programming.\n",
    "- Review any commenting/documentation you put into your code. Is it helpful? Would it make sense to someone who has never seen your code before? Does it execute as intended if you use \"Run all\"? Think about how you may want to change your documentation going forward. "
   ]
  },
  {
   "cell_type": "markdown",
   "metadata": {},
   "source": []
  }
 ],
 "metadata": {
  "kernelspec": {
   "display_name": "base",
   "language": "python",
   "name": "python3"
  },
  "language_info": {
   "codemirror_mode": {
    "name": "ipython",
    "version": 3
   },
   "file_extension": ".py",
   "mimetype": "text/x-python",
   "name": "python",
   "nbconvert_exporter": "python",
   "pygments_lexer": "ipython3",
   "version": "3.11.4"
  }
 },
 "nbformat": 4,
 "nbformat_minor": 2
}
