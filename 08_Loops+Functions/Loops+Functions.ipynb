{
 "cells": [
  {
   "cell_type": "markdown",
   "metadata": {},
   "source": [
    "# Loops & Functions\n",
    "\n",
    "[![Open In Colab](https://colab.research.google.com/assets/colab-badge.svg)](https://colab.research.google.com/github/ali-rivera/Python-Support-Hours/blob/main/8_Loops%2BFunctions/Loops%2BFunctions.ipynb)"
   ]
  },
  {
   "cell_type": "code",
   "execution_count": 51,
   "metadata": {},
   "outputs": [],
   "source": [
    "# import packages\n",
    "import random as rand"
   ]
  },
  {
   "cell_type": "markdown",
   "metadata": {},
   "source": [
    "## Loops\n",
    "Loops are pieces of code that do the same thing repeatedly until a predefinied condition is met. There are 2 kinds of loops: `for` loops and `while` loops, that differ on how that predefined condition is met.<br><br>\n",
    "**1. `for` loops**<br>\n",
    "    for loops will go item by item in a iterable object (like a list) you supply until it reaches the end. They are formatted like this:<br><br>\n",
    "        `for item in list:`<br>\n",
    "            &emsp; `do something`<br><br>\n",
    "    where `item` takes on the value of each item in `list` sequentially. You may want to do something with each item in the `do something` statement, but you don't have to. <br>\n",
    "    *for loops are great for when you know how many times you are going to do something*<br><br>\n",
    "\n",
    "**2. `while` loops**<br>\n",
    "    while loops will continue running *while* the definied condition is true. They are formatted like this: <br><br>\n",
    "        `while i<j:`<br>\n",
    "            &emsp; `do something - change i or j`<br><br>\n",
    "    where `i` and `j` are already defined. Note that using while loops will result in an infinite loop if something in the `do something` statement doesn't change `i` or `j` to eventually make the statement false.<br>\n",
    "    *while loops are great for when you don't know how long your loop will run - but can easily result in an infinite loop that will crash your program. Be careful!*\n",
    "    "
   ]
  },
  {
   "cell_type": "markdown",
   "metadata": {},
   "source": [
    "### Practice\n",
    "let's write a (for and while) loop to print the statement \"The best state is _______\" from a list of states."
   ]
  },
  {
   "cell_type": "code",
   "execution_count": 31,
   "metadata": {},
   "outputs": [],
   "source": [
    "state_list = [\"Utah\", \"Alaska\", \"Maine\", \"New Jersey\", \"Virginia\"]"
   ]
  },
  {
   "cell_type": "code",
   "execution_count": 32,
   "metadata": {},
   "outputs": [
    {
     "name": "stdout",
     "output_type": "stream",
     "text": [
      "The best state is Utah.\n",
      "The best state is Alaska.\n",
      "The best state is Maine.\n",
      "The best state is New Jersey.\n",
      "The best state is Virginia.\n"
     ]
    }
   ],
   "source": [
    "# with a for loop\n",
    "for state in state_list:\n",
    "    print(f\"The best state is {state}.\")"
   ]
  },
  {
   "cell_type": "code",
   "execution_count": 35,
   "metadata": {},
   "outputs": [
    {
     "name": "stdout",
     "output_type": "stream",
     "text": [
      "The best state is Utah.\n",
      "The best state is Alaska.\n",
      "The best state is Maine.\n",
      "The best state is New Jersey.\n",
      "The best state is Virginia.\n"
     ]
    }
   ],
   "source": [
    "# with a while loop\n",
    "i = 0\n",
    "while i < len(state_list):\n",
    "    print(f\"The best state is {state_list[i]}.\")\n",
    "    i += 1 # increase the value of i each time - otherwise we get an infinte loop!"
   ]
  },
  {
   "cell_type": "markdown",
   "metadata": {},
   "source": [
    "dictionaries are also useful in for loops, but can be a little trickier to work with because you have to keep in mind that there are keys and values. Let's look at an example with states and their abbreviations, and print the statement \"__ is the abbreivation for _______ state.\""
   ]
  },
  {
   "cell_type": "code",
   "execution_count": 20,
   "metadata": {},
   "outputs": [
    {
     "name": "stdout",
     "output_type": "stream",
     "text": [
      "UT\n",
      "AK\n",
      "ME\n",
      "NJ\n",
      "VA\n"
     ]
    }
   ],
   "source": [
    "state_dict = {\"UT\":\"Utah\", \"AK\":\"Alaska\", \"ME\":\"Maine\", \"NJ\":\"New Jersey\", \"VA\":\"Virginia\"}\n",
    "\n",
    "for state in state_dict:\n",
    "    print(state)\n",
    "\n",
    "## notice that iterating through the dictionary returns the keys. There are 2 ways we can get the values..."
   ]
  },
  {
   "cell_type": "code",
   "execution_count": 28,
   "metadata": {},
   "outputs": [
    {
     "name": "stdout",
     "output_type": "stream",
     "text": [
      "UT is the abbreviation for Utah.\n",
      "AK is the abbreviation for Alaska.\n",
      "ME is the abbreviation for Maine.\n",
      "NJ is the abbreviation for New Jersey.\n",
      "VA is the abbreviation for Virginia.\n"
     ]
    }
   ],
   "source": [
    "# We can index the dictionary to the key for each object\n",
    "for state in state_dict:\n",
    "    print(f\"{state} is the abbreviation for {state_dict[state]}.\")"
   ]
  },
  {
   "cell_type": "code",
   "execution_count": 30,
   "metadata": {},
   "outputs": [
    {
     "name": "stdout",
     "output_type": "stream",
     "text": [
      "UT is the abbreviation for Utah.\n",
      "AK is the abbreviation for Alaska.\n",
      "ME is the abbreviation for Maine.\n",
      "NJ is the abbreviation for New Jersey.\n",
      "VA is the abbreviation for Virginia.\n"
     ]
    }
   ],
   "source": [
    "# We can use the items() function on a dictiorary - which returns the key and value pair. \n",
    "for abbv, name in state_dict.items():\n",
    "    print(f\"{abbv} is the abbreviation for {name}.\")\n",
    "\n",
    "## Note that we pass 2 things (abbr and name) after for so each iteration has 2 values - see what happens if you only use one thing, either abbr or name."
   ]
  },
  {
   "cell_type": "markdown",
   "metadata": {},
   "source": [
    "### Helpful Hint!!\n",
    "\n",
    "Sometimes you'll want to check that you're getting the right value when looping through an object. After your write your `for item in list` statement, you can always just run `print(item)` to make sure you're getting the values you expect."
   ]
  },
  {
   "cell_type": "markdown",
   "metadata": {},
   "source": [
    "## Functions\n",
    "Functions are pieces of code that you expect to run frequently throughout your code. They make your code shorter, easier to write, and easier to read.<br> <br> \n",
    "In general, a good funtion will... <br>\n",
    "- Have a short, descriptive name.\n",
    "- Have a docstring that tells the user what the function does, the input, and the output.\n",
    "- Meet one objective. You may need to do several things in a function to do so, but it should have 1 main objctive.\n",
    "<br><br>\n",
    "A function is formatted like this: <br>\n",
    "`def funct_name(paramers):`<br>\n",
    "    &emsp;`do something`<br><br>\n",
    "    &emsp;`return something` # this is optional, but if you want to be able to save a value from a function, you'll need a return statement"
   ]
  },
  {
   "cell_type": "markdown",
   "metadata": {},
   "source": [
    "### Practice"
   ]
  },
  {
   "cell_type": "markdown",
   "metadata": {},
   "source": [
    "Let's write a function that takes in a list of names and randomly chooses a person from it."
   ]
  },
  {
   "cell_type": "code",
   "execution_count": 36,
   "metadata": {},
   "outputs": [],
   "source": [
    "names_list = [\"Nadir\", \"Bella\", \"Raymundo\", \"Sara\", \"Gargee\", \"Jake\"]"
   ]
  },
  {
   "cell_type": "code",
   "execution_count": 48,
   "metadata": {},
   "outputs": [],
   "source": [
    "def rando_person(people):\n",
    "    '''\n",
    "    picks a random person from provided list\n",
    "\n",
    "    input: list of names to choose from\n",
    "    output: string of chosen person\n",
    "    '''\n",
    "    rand_num = rand.randint(0, len(people)-1)\n",
    "    return people[rand_num]"
   ]
  },
  {
   "cell_type": "code",
   "execution_count": 49,
   "metadata": {},
   "outputs": [
    {
     "data": {
      "text/plain": [
       "'Raymundo'"
      ]
     },
     "execution_count": 49,
     "metadata": {},
     "output_type": "execute_result"
    }
   ],
   "source": [
    "rando_person(names_list)"
   ]
  },
  {
   "cell_type": "markdown",
   "metadata": {},
   "source": [
    "## Next steps\n",
    "\n",
    "\n",
    "Here are some practice problems on the topics we covered today: <br>\n",
    "- [Loops Practice Problems](https://pynative.com/python-if-else-and-for-loop-exercise-with-solutions/)\n",
    "- [Functions Practice Problems](https://pynative.com/python-functions-exercise-with-solutions/)\n",
    "\n",
    "The best way to learn is by trying things and making mistakes!<br>\n",
    "Open a new code file and try some of these excersices. Remember to look up documentation, focus on the areas that are uncomfortable, and embrace the struggle! \n"
   ]
  }
 ],
 "metadata": {
  "kernelspec": {
   "display_name": "base",
   "language": "python",
   "name": "python3"
  },
  "language_info": {
   "codemirror_mode": {
    "name": "ipython",
    "version": 3
   },
   "file_extension": ".py",
   "mimetype": "text/x-python",
   "name": "python",
   "nbconvert_exporter": "python",
   "pygments_lexer": "ipython3",
   "version": "3.11.4"
  }
 },
 "nbformat": 4,
 "nbformat_minor": 2
}
