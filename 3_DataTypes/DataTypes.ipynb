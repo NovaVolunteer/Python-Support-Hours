{
 "cells": [
  {
   "cell_type": "markdown",
   "metadata": {},
   "source": [
    "# Data Types"
   ]
  },
  {
   "cell_type": "markdown",
   "metadata": {},
   "source": [
    "[![Open In Colab](https://colab.research.google.com/assets/colab-badge.svg)](https://colab.research.google.com/github/ali-rivera/Python-Support-Hours/blob/main/Week2/Week2_Resources.ipynb)"
   ]
  },
  {
   "cell_type": "markdown",
   "metadata": {},
   "source": [
    "Welcome to Python!! Here we will review some of the most common Python Data Types that you'll likely use in your Data Science work.\n",
    "\n",
    "I encourage you to use this resource as you get comforable with Python and reference it as needed."
   ]
  },
  {
   "cell_type": "markdown",
   "metadata": {},
   "source": [
    "## Data Types"
   ]
  },
  {
   "cell_type": "markdown",
   "metadata": {},
   "source": [
    "There are several data types in Python that will be useful throughout your Python experience.\n",
    "\n",
    "Some common data types are:\n",
    "- strings `str`\n",
    "    - a series of characters - can also contain numbers, but these are treated as a character (so no math with strings)\n",
    "- integers `int`\n",
    "    - an integer including negative values and 0\n",
    "- floats `float`\n",
    "    - a number with decimal places\n",
    "- boolean `bool`\n",
    "    - true or false values\n",
    "- lists `list`\n",
    "    - mutable and ordered\n",
    "- tuples `tuple`\n",
    "    - an ordered, immutable list with duplicates\n",
    "- dictionary `dict`\n",
    "    - an ordered*, mutable list with keys instead of indexes\n",
    "- set `set`\n",
    "    - an unorded, immutable list of items\n",
    "\n",
    "There are additional data types out there as well as some that can be added with additional packages (like dataframes - a common data type from `pandas`, or arrays - a common data type from `NumPy`!)\n",
    "\n",
    "**dictionaries are considered ordered in Python>3.7*"
   ]
  },
  {
   "cell_type": "markdown",
   "metadata": {},
   "source": [
    "Here are some examples of each:"
   ]
  },
  {
   "cell_type": "code",
   "execution_count": 1,
   "metadata": {},
   "outputs": [],
   "source": [
    "str1 = \"This is a string!\" \n",
    "int1 = 2 \n",
    "float1 = 3.14 \n",
    "bool1 = True \n",
    "list1 = [\"string\", 0, 1.23, False] \n",
    "tuple1 = (\"lucky tuple\", 7, 7, 7) \n",
    "dict1 = {\"key1\": \"value 1\", \"key2\": [1,2,3, \"four\"]} \n",
    "set1 = {\"value1\", 2, 2, True}\n",
    "\n"
   ]
  },
  {
   "cell_type": "code",
   "execution_count": 2,
   "metadata": {},
   "outputs": [
    {
     "name": "stdout",
     "output_type": "stream",
     "text": [
      "str:\t This is a string!\n",
      "int:\t 2\n",
      "float:\t 3.14\n",
      "bool:\t True\n",
      "list:\t ['string', 0, 1.23, False]\n",
      "tuple:\t ('lucky tuple', 7, 7, 7)\n",
      "dict:\t {'key1': 'value 1', 'key2': [1, 2, 3, 'four']}\n",
      "set:\t {True, 2, 'value1'}\n"
     ]
    }
   ],
   "source": [
    "## Play this cell to see the value of each of the variables defined above\n",
    "\n",
    "print(\"str:\\t\",str1)\n",
    "print(\"int:\\t\", int1)\n",
    "print(\"float:\\t\", float1) \n",
    "print(\"bool:\\t\", bool1)\n",
    "print(\"list:\\t\", list1)\n",
    "print(\"tuple:\\t\", tuple1)\n",
    "print(\"dict:\\t\", dict1)\n",
    "print(\"set:\\t\", set1)"
   ]
  },
  {
   "cell_type": "markdown",
   "metadata": {},
   "source": [
    "*Note: the \\t prints a tab: this is an escape character, there are several others & they are helpful for formatting. See the link below for more info.*\n",
    "<https://www.w3schools.com/python/gloss_python_escape_characters.asp> \n"
   ]
  },
  {
   "cell_type": "markdown",
   "metadata": {},
   "source": [
    "### Mutable vs. Immutable"
   ]
  },
  {
   "cell_type": "markdown",
   "metadata": {},
   "source": [
    "**Mutable** data types can change value after being declared. Mutable items include:\n",
    "- `int`\n",
    "- `float`\n",
    "- `bool`\n",
    "- `list`\n",
    "- `dict`"
   ]
  },
  {
   "cell_type": "code",
   "execution_count": 3,
   "metadata": {},
   "outputs": [
    {
     "data": {
      "text/plain": [
       "[1, 2, 'X', 4]"
      ]
     },
     "execution_count": 3,
     "metadata": {},
     "output_type": "execute_result"
    }
   ],
   "source": [
    "## A mutable example\n",
    "\n",
    "change_list = [1, 2, \"X\", 4]\n",
    "change_list"
   ]
  },
  {
   "cell_type": "code",
   "execution_count": 4,
   "metadata": {},
   "outputs": [
    {
     "data": {
      "text/plain": [
       "[1, 2, 3, 4]"
      ]
     },
     "execution_count": 4,
     "metadata": {},
     "output_type": "execute_result"
    }
   ],
   "source": [
    "change_list[2] = 3\n",
    "change_list"
   ]
  },
  {
   "cell_type": "markdown",
   "metadata": {},
   "source": [
    "**Immutable** items can not have values change after being declared. Mutable items include:\n",
    "- `str`\n",
    "- `tuple`\n",
    "- `set`"
   ]
  },
  {
   "cell_type": "code",
   "execution_count": 5,
   "metadata": {},
   "outputs": [
    {
     "data": {
      "text/plain": [
       "'strXng'"
      ]
     },
     "execution_count": 5,
     "metadata": {},
     "output_type": "execute_result"
    }
   ],
   "source": [
    "change_str = \"strXng\"\n",
    "change_str"
   ]
  },
  {
   "cell_type": "code",
   "execution_count": 6,
   "metadata": {},
   "outputs": [
    {
     "ename": "TypeError",
     "evalue": "'str' object does not support item assignment",
     "output_type": "error",
     "traceback": [
      "\u001b[1;31m---------------------------------------------------------------------------\u001b[0m",
      "\u001b[1;31mTypeError\u001b[0m                                 Traceback (most recent call last)",
      "Cell \u001b[1;32mIn[6], line 3\u001b[0m\n\u001b[0;32m      1\u001b[0m \u001b[38;5;66;03m#try replacing the X with an i:\u001b[39;00m\n\u001b[1;32m----> 3\u001b[0m \u001b[43mchange_str\u001b[49m\u001b[43m[\u001b[49m\u001b[38;5;241;43m3\u001b[39;49m\u001b[43m]\u001b[49m \u001b[38;5;241m=\u001b[39m \u001b[38;5;124m\"\u001b[39m\u001b[38;5;124mi\u001b[39m\u001b[38;5;124m\"\u001b[39m \u001b[38;5;66;03m# produces an error\u001b[39;00m\n\u001b[0;32m      4\u001b[0m change_str\n",
      "\u001b[1;31mTypeError\u001b[0m: 'str' object does not support item assignment"
     ]
    }
   ],
   "source": [
    "#try replacing the X with an i:\n",
    "\n",
    "change_str[3] = \"i\" # produces an error\n",
    "change_str"
   ]
  },
  {
   "cell_type": "code",
   "execution_count": 7,
   "metadata": {},
   "outputs": [
    {
     "ename": "KeyError",
     "evalue": "'spicy water'",
     "output_type": "error",
     "traceback": [
      "\u001b[1;31m---------------------------------------------------------------------------\u001b[0m",
      "\u001b[1;31mKeyError\u001b[0m                                  Traceback (most recent call last)",
      "Cell \u001b[1;32mIn[7], line 1\u001b[0m\n\u001b[1;32m----> 1\u001b[0m \u001b[43mset1\u001b[49m\u001b[38;5;241;43m.\u001b[39;49m\u001b[43mremove\u001b[49m\u001b[43m(\u001b[49m\u001b[38;5;124;43m\"\u001b[39;49m\u001b[38;5;124;43mspicy water\u001b[39;49m\u001b[38;5;124;43m\"\u001b[39;49m\u001b[43m)\u001b[49m\n",
      "\u001b[1;31mKeyError\u001b[0m: 'spicy water'"
     ]
    }
   ],
   "source": [
    "set1.remove(\"spicy water\")"
   ]
  },
  {
   "cell_type": "code",
   "execution_count": 8,
   "metadata": {},
   "outputs": [
    {
     "data": {
      "text/plain": [
       "{2, True, 'value1'}"
      ]
     },
     "execution_count": 8,
     "metadata": {},
     "output_type": "execute_result"
    }
   ],
   "source": [
    "set1"
   ]
  },
  {
   "cell_type": "markdown",
   "metadata": {},
   "source": [
    "### Ordered vs. Unordered"
   ]
  },
  {
   "cell_type": "markdown",
   "metadata": {},
   "source": [
    "**Ordered** data types have a set \"order\" that can be used to index the elements by position. Ordered data types include:\n",
    "- `str`\n",
    "- `list`\n",
    "- `dict`*\n",
    "- `tuple`\n",
    "\n",
    "*dictionaries are indexed by keys\n",
    "\n",
    "**Unorded** data types do not have an order and can not be indexed. A `set` is unordered.\n"
   ]
  },
  {
   "cell_type": "code",
   "execution_count": 9,
   "metadata": {},
   "outputs": [
    {
     "data": {
      "text/plain": [
       "'T'"
      ]
     },
     "execution_count": 9,
     "metadata": {},
     "output_type": "execute_result"
    }
   ],
   "source": [
    "# ordered\n",
    "str1[0]"
   ]
  },
  {
   "cell_type": "code",
   "execution_count": 10,
   "metadata": {},
   "outputs": [
    {
     "ename": "TypeError",
     "evalue": "'set' object is not subscriptable",
     "output_type": "error",
     "traceback": [
      "\u001b[1;31m---------------------------------------------------------------------------\u001b[0m",
      "\u001b[1;31mTypeError\u001b[0m                                 Traceback (most recent call last)",
      "Cell \u001b[1;32mIn[10], line 2\u001b[0m\n\u001b[0;32m      1\u001b[0m \u001b[38;5;66;03m# unorded\u001b[39;00m\n\u001b[1;32m----> 2\u001b[0m \u001b[43mset1\u001b[49m\u001b[43m[\u001b[49m\u001b[38;5;241;43m0\u001b[39;49m\u001b[43m]\u001b[49m \u001b[38;5;66;03m# produces error\u001b[39;00m\n",
      "\u001b[1;31mTypeError\u001b[0m: 'set' object is not subscriptable"
     ]
    }
   ],
   "source": [
    "# unorded\n",
    "set1[0] # produces error"
   ]
  },
  {
   "cell_type": "markdown",
   "metadata": {},
   "source": [
    "### Indexing"
   ]
  },
  {
   "cell_type": "markdown",
   "metadata": {},
   "source": [
    "Remember Python indexing starts at 0, so the following string is indexed as follows:\n",
    "\n",
    "| H   | e   | l  | l  | o  |  _  | w  | o  | r  | l  | d  |\n",
    "|-----|-----|----|----|----|----|----|----|----|----|----|\n",
    "| 0   | 1   | 2  | 3  | 4  | 5  | 6  | 7  | 8  | 9  | 10 |\n",
    "\n",
    "\n",
    "You can also use negative indexing, which starts at -1 at the end. This can be helpful when trying to remove a file type (like .txt or .doc) from a strings of different lengths. \n",
    "\n",
    "| H   | e   | l  | l  | o  |  _  | w  | o  | r  | l  | d  |\n",
    "|-----|-----|----|----|----|----|----|----|----|----|----|\n",
    "| -11 | -10 | -9 | -8 | -7 | -6 | -5 | -4 | -3 | -2 | -1 |\n"
   ]
  },
  {
   "cell_type": "code",
   "execution_count": 11,
   "metadata": {},
   "outputs": [
    {
     "data": {
      "text/plain": [
       "'string'"
      ]
     },
     "execution_count": 11,
     "metadata": {},
     "output_type": "execute_result"
    }
   ],
   "source": [
    "## To get an item using the index, use []\n",
    "list1[0]"
   ]
  },
  {
   "cell_type": "code",
   "execution_count": 12,
   "metadata": {},
   "outputs": [
    {
     "data": {
      "text/plain": [
       "0"
      ]
     },
     "execution_count": 12,
     "metadata": {},
     "output_type": "execute_result"
    }
   ],
   "source": [
    "## To get the index of an item, use the .index() function\n",
    "list1.index(\"string\") # note: this returns the first index in the event of duplicate values"
   ]
  },
  {
   "cell_type": "markdown",
   "metadata": {},
   "source": [
    "You can also perform *slicing* using indexing to select a section using indexing. You can specify the staring point (inclusive) and the ending point (exclusive) (ex: `str1[start:end]`), or use a blank on either side of the : to signify 'the rest'."
   ]
  },
  {
   "cell_type": "code",
   "execution_count": 13,
   "metadata": {},
   "outputs": [
    {
     "name": "stdout",
     "output_type": "stream",
     "text": [
      "Hello\n",
      "Hello\n",
      "Hello\n",
      "rld\n",
      "rld\n",
      "rld\n"
     ]
    }
   ],
   "source": [
    "str2 = \"Hello world\"\n",
    "# print hello only\n",
    "print(str2[:5])\n",
    "print(str2[0:5])\n",
    "print(str2[:-6])\n",
    "\n",
    "# print last 3 characters\n",
    "print(str2[8:])\n",
    "print(str2[8:11])\n",
    "print(str2[-3:])\n"
   ]
  },
  {
   "cell_type": "markdown",
   "metadata": {},
   "source": [
    "## Next Steps"
   ]
  },
  {
   "cell_type": "markdown",
   "metadata": {},
   "source": [
    "The best way to get better at coding is to do it. Try these problems from W3Schools to practice using different data types and associated functions. As you go, practice looking up documentation for the things you don't know or aren't sure of.\n",
    "\n",
    "https://www.w3schools.com/python/exercise.asp"
   ]
  },
  {
   "cell_type": "markdown",
   "metadata": {},
   "source": [
    "# Additional Resources\n",
    "\n",
    "Python Cheat sheets from Data Camp: https://www.datacamp.com/cheat-sheet/getting-started-with-python-cheat-sheet \n",
    "\n",
    "*Data camp is also a great resource for additional instruction, examples, and practice problems. This is a paid service but the cheatsheets are free!*\n"
   ]
  }
 ],
 "metadata": {
  "kernelspec": {
   "display_name": "base",
   "language": "python",
   "name": "python3"
  },
  "language_info": {
   "codemirror_mode": {
    "name": "ipython",
    "version": 3
   },
   "file_extension": ".py",
   "mimetype": "text/x-python",
   "name": "python",
   "nbconvert_exporter": "python",
   "pygments_lexer": "ipython3",
   "version": "3.11.4"
  },
  "orig_nbformat": 4
 },
 "nbformat": 4,
 "nbformat_minor": 2
}
