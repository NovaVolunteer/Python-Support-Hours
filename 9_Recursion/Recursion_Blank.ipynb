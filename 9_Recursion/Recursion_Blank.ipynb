{
 "cells": [
  {
   "cell_type": "markdown",
   "metadata": {},
   "source": [
    "# Recursion\n",
    "\n",
    "[![Open In Colab](https://colab.research.google.com/assets/colab-badge.svg)](https://colab.research.google.com/github/ali-rivera/Python-Support-Hours/blob/main/Week5/Week5_BLANKResources.ipynb)\n"
   ]
  },
  {
   "cell_type": "code",
   "execution_count": 51,
   "metadata": {},
   "outputs": [],
   "source": [
    "# import packages\n",
    "import random as rand"
   ]
  },
  {
   "cell_type": "markdown",
   "metadata": {},
   "source": [
    "## Recursion\n",
    "A recursive function is one that that calls a itself within itself. This is helpful when you have an iterative application (you're doing the same thing repeatedly). There are applications where recursion is a better fir than looping - but they accomplish the same thing in the end. \n",
    "\n",
    "Here's an example from [freecodecamp.org](https://www.freecodecamp.org/news/how-recursion-works-explained-with-flowcharts-and-a-video-de61f40cb7f9/) that explains the difference between an iterative approach (like a ehile loop) and a recursive approach. In this example, the application is looking through nested boxes for a key. \n",
    "\n",
    "<img src=\"recursion_pic.png\"> "
   ]
  },
  {
   "cell_type": "markdown",
   "metadata": {},
   "source": [
    "### Practice\n",
    "**Let's try making a recursive function that computes the factorial of a number**"
   ]
  },
  {
   "cell_type": "code",
   "execution_count": 1,
   "metadata": {},
   "outputs": [],
   "source": [
    "def factorial(num):\n",
    "    '''\n",
    "    returns the factorial value of the input\n",
    "\n",
    "    input: int or float >= 1\n",
    "    output: int or float = num!\n",
    "    '''"
   ]
  },
  {
   "cell_type": "markdown",
   "metadata": {},
   "source": [
    "**Let's test this with 5,6, and 10. Your results should be 120, 720, and 3628800 respectively.**"
   ]
  },
  {
   "cell_type": "code",
   "execution_count": 15,
   "metadata": {},
   "outputs": [
    {
     "data": {
      "text/plain": [
       "120"
      ]
     },
     "metadata": {},
     "output_type": "display_data"
    },
    {
     "data": {
      "text/plain": [
       "720"
      ]
     },
     "metadata": {},
     "output_type": "display_data"
    },
    {
     "data": {
      "text/plain": [
       "3628800"
      ]
     },
     "metadata": {},
     "output_type": "display_data"
    }
   ],
   "source": [
    "## Test factorial function for 5, 6 and 10\n",
    "display(factorial(5), factorial(6), factorial(10))"
   ]
  },
  {
   "cell_type": "markdown",
   "metadata": {},
   "source": [
    "lets trace out what happens when we call factorial(5)\n",
    "- num = 5 <br>\n",
    "    `if 5 == 1:` FALSE so we continue to else<br>\n",
    "    `return 5 * factorial(5-1)`<br>\n",
    "\n",
    "now we call factorial where num = 5-1 = 4\n",
    "\n",
    "- num = 4<br>\n",
    "    `if 4 == 1:` FALSE so we continue to else<br>\n",
    "    `return 4 * factorial(4-1)`<br>\n",
    "\n",
    "now we call factorial where num = 4-1 = 3\n",
    "\n",
    "- num = 4-1 = 3<br>\n",
    "    `if 3 == 1:` FALSE so we continue to else<br>\n",
    "    `return 3 * factorial(3-1)`<br>\n",
    "\n",
    "now we call factorial where num = 3-1 = 2\n",
    "\n",
    "- num = 3-1 = 2<br>\n",
    "    `if 2 == 1:` FALSE so we continue to else<br>\n",
    "    `return 2 * factorial(2-1)`<br>\n",
    "\n",
    "now we call factorial where num = 2-1 = 1\n",
    "\n",
    "- num = 2-1 = 1<br>\n",
    "   ` if 1 == 1:` TRUE so we return 1<br>\n",
    "\n",
    "now we go backwards and fill in the values we've computed on the returns...\n",
    "- num = 1<br>\n",
    "    `return 1`<br>\n",
    "    *factorial(1) = 1*<br>\n",
    "- num = 2<br>\n",
    "    `return 2 * factorial(1)` = 2 * 1 = 2<br>\n",
    "    *factorial(2) = 2*<br>\n",
    "- num = 3<br>\n",
    "    `return 3 * factorial(2)` = 3 * 2 = 6<br>\n",
    "    *factorial(3) = 6*<br>\n",
    "- num = 4<br>\n",
    "    `return 4 * factorial(3)` = 4 * 6 = 24<br>\n",
    "    *factorial(4) = 24*<br>\n",
    "- num = 5<br>\n",
    "    `return 5 * factorial(4)` = 5 * 24 = 120<br>\n",
    "    *factorial(5) = 120*\n",
    "\n",
    "\n",
    "\n"
   ]
  },
  {
   "cell_type": "markdown",
   "metadata": {},
   "source": [
    "**Let's try another common example of recusrion - the fibonacci sequence. For more information, check out the [wiki page](https://en.wikipedia.org/wiki/Fibonacci_sequence). You'll need to know that the equation for a fibbonaci number is the sum of the prior 2 fibonacci numbers, so $F_n = F_{n-1} + F_{n-2}$** \n",
    "\n",
    "Hint: you'll need to adjust the base case to include 0 to avoid an error here"
   ]
  },
  {
   "cell_type": "code",
   "execution_count": 8,
   "metadata": {},
   "outputs": [],
   "source": []
  },
  {
   "cell_type": "markdown",
   "metadata": {},
   "source": [
    "**Let's test this with 5,6, and 10. Your results should be 5, 8, and 55 respectively.**"
   ]
  },
  {
   "cell_type": "code",
   "execution_count": null,
   "metadata": {},
   "outputs": [
    {
     "data": {
      "text/plain": [
       "5"
      ]
     },
     "metadata": {},
     "output_type": "display_data"
    },
    {
     "data": {
      "text/plain": [
       "8"
      ]
     },
     "metadata": {},
     "output_type": "display_data"
    },
    {
     "data": {
      "text/plain": [
       "55"
      ]
     },
     "metadata": {},
     "output_type": "display_data"
    }
   ],
   "source": [
    "display(fib(5), fib(6), fib(10))"
   ]
  },
  {
   "cell_type": "markdown",
   "metadata": {},
   "source": [
    "## Next steps\n",
    "\n",
    "\n",
    "Here are some practice problems on the topics we covered today: <br>\n",
    "- [Recursion Practice Problems](https://pythonmania.org/functions/python-recursion-practice-problems-with-solutions/)\n",
    "\n",
    "The best way to learn is by trying things and making mistakes!<br>\n",
    "Open a new code file and try some of these excersices. Remember to look up documentation, focus on the areas that are uncomfortable, and embrace the struggle! \n"
   ]
  },
  {
   "cell_type": "markdown",
   "metadata": {},
   "source": []
  }
 ],
 "metadata": {
  "kernelspec": {
   "display_name": "base",
   "language": "python",
   "name": "python3"
  },
  "language_info": {
   "codemirror_mode": {
    "name": "ipython",
    "version": 3
   },
   "file_extension": ".py",
   "mimetype": "text/x-python",
   "name": "python",
   "nbconvert_exporter": "python",
   "pygments_lexer": "ipython3",
   "version": "3.11.4"
  }
 },
 "nbformat": 4,
 "nbformat_minor": 2
}
