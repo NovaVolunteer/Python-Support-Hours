{
 "cells": [
  {
   "cell_type": "markdown",
   "metadata": {},
   "source": [
    "# Week 2 Resources!"
   ]
  },
  {
   "cell_type": "markdown",
   "metadata": {},
   "source": [
    "[![Open In Colab](https://colab.research.google.com/assets/colab-badge.svg)](https://colab.research.google.com/github/ali-rivera/Python-Support-Hours/blob/main/Week2/Week2_Resources.ipynb)"
   ]
  },
  {
   "cell_type": "markdown",
   "metadata": {},
   "source": [
    "Welcome to Python!! Here we will review some key points on Python fundamentals \n",
    "- data types\n",
    "- using functions\n",
    "- coding best practices (sequencing and commenting)\n",
    "\n",
    "I encourage you to use this resource as you get comforable with Python and reference it as needed."
   ]
  },
  {
   "cell_type": "markdown",
   "metadata": {},
   "source": [
    "## Data Types"
   ]
  },
  {
   "cell_type": "markdown",
   "metadata": {},
   "source": [
    "There are several data types in Python that will be useful throughout your Python experience.\n",
    "\n",
    "Some common data types are:\n",
    "- strings `str`\n",
    "    - a series of characters - can also contain numbers, but these are treated as a character (so no math with strings)\n",
    "- integers `int`\n",
    "    - an integer including negative values and 0\n",
    "- floats `float`\n",
    "    - a number with decimal places\n",
    "- boolean `bool`\n",
    "    - true or false values\n",
    "- lists `list`\n",
    "    - mutable and ordered\n",
    "- tuples `tuple`\n",
    "    - an ordered, immutable list with duplicates\n",
    "- dictionary `dict`\n",
    "    - an ordered*, mutable list with keys instead of indexes\n",
    "- set `set`\n",
    "    - an unorded, immutable list of items\n",
    "\n",
    "There are additional data types out there as well as some that can be added with additional packages (like dataframes - a common data type from `pandas`, or arrays - a common data type from `NumPy`!)\n",
    "\n",
    "**dictionaries are considered ordered in Python>3.7*"
   ]
  },
  {
   "cell_type": "markdown",
   "metadata": {},
   "source": [
    "Here are some examples of each:"
   ]
  },
  {
   "cell_type": "code",
   "execution_count": 1,
   "metadata": {},
   "outputs": [],
   "source": [
    "str1 = \"This is a string!\" \n",
    "int1 = 2 \n",
    "float1 = 3.14 \n",
    "bool1 = True \n",
    "list1 = [\"string\", 0, 1.23, False] \n",
    "tuple1 = (\"lucky tuple\", 7, 7, 7) \n",
    "dict1 = {\"key1\": \"value 1\", \"key2\": [1,2,3, \"four\"]} \n",
    "set1 = {\"value1\", 2, 2, True}\n",
    "\n"
   ]
  },
  {
   "cell_type": "code",
   "execution_count": 2,
   "metadata": {},
   "outputs": [
    {
     "name": "stdout",
     "output_type": "stream",
     "text": [
      "str:\t This is a string!\n",
      "int:\t 2\n",
      "float:\t 3.14\n",
      "bool:\t True\n",
      "list:\t ['string', 0, 1.23, False]\n",
      "tuple:\t ('lucky tuple', 7, 7, 7)\n",
      "dict:\t {'key1': 'value 1', 'key2': [1, 2, 3, 'four']}\n",
      "set:\t {'value1', True, 2}\n"
     ]
    }
   ],
   "source": [
    "## Play this cell to see the value of each of the variables defined above\n",
    "\n",
    "print(\"str:\\t\",str1)\n",
    "print(\"int:\\t\", int1)\n",
    "print(\"float:\\t\", float1) \n",
    "print(\"bool:\\t\", bool1)\n",
    "print(\"list:\\t\", list1)\n",
    "print(\"tuple:\\t\", tuple1)\n",
    "print(\"dict:\\t\", dict1)\n",
    "print(\"set:\\t\", set1)"
   ]
  },
  {
   "cell_type": "markdown",
   "metadata": {},
   "source": [
    "*Note: the \\t prints a tab: this is an escape character, there are several others & they are helpful for formatting. See the link below for more info.*\n",
    "<https://www.w3schools.com/python/gloss_python_escape_characters.asp> \n"
   ]
  },
  {
   "cell_type": "markdown",
   "metadata": {},
   "source": [
    "### Mutable vs. Immutable"
   ]
  },
  {
   "cell_type": "markdown",
   "metadata": {},
   "source": [
    "**Mutable** data types can change value after being declared. Mutable items include:\n",
    "- `int`\n",
    "- `float`\n",
    "- `bool`\n",
    "- `list`\n",
    "- `dict`"
   ]
  },
  {
   "cell_type": "code",
   "execution_count": 3,
   "metadata": {},
   "outputs": [
    {
     "data": {
      "text/plain": [
       "[1, 2, 'X', 4]"
      ]
     },
     "execution_count": 3,
     "metadata": {},
     "output_type": "execute_result"
    }
   ],
   "source": [
    "## A mutable example\n",
    "\n",
    "change_list = [1, 2, \"X\", 4]\n",
    "change_list"
   ]
  },
  {
   "cell_type": "code",
   "execution_count": 4,
   "metadata": {},
   "outputs": [
    {
     "data": {
      "text/plain": [
       "[1, 2, 3, 4]"
      ]
     },
     "execution_count": 4,
     "metadata": {},
     "output_type": "execute_result"
    }
   ],
   "source": [
    "change_list[2] = 3\n",
    "change_list"
   ]
  },
  {
   "cell_type": "markdown",
   "metadata": {},
   "source": [
    "**Immutable** items can not have values change after being declared. Mutable items include:\n",
    "- `str`\n",
    "- `tuple`\n",
    "- `set`"
   ]
  },
  {
   "cell_type": "code",
   "execution_count": 116,
   "metadata": {},
   "outputs": [
    {
     "data": {
      "text/plain": [
       "'strXng'"
      ]
     },
     "execution_count": 116,
     "metadata": {},
     "output_type": "execute_result"
    }
   ],
   "source": [
    "change_str = \"strXng\"\n",
    "change_str"
   ]
  },
  {
   "cell_type": "code",
   "execution_count": 117,
   "metadata": {},
   "outputs": [
    {
     "ename": "TypeError",
     "evalue": "'str' object does not support item assignment",
     "output_type": "error",
     "traceback": [
      "\u001b[1;31m---------------------------------------------------------------------------\u001b[0m",
      "\u001b[1;31mTypeError\u001b[0m                                 Traceback (most recent call last)",
      "Cell \u001b[1;32mIn[117], line 3\u001b[0m\n\u001b[0;32m      1\u001b[0m \u001b[39m#try replacing the X with an i:\u001b[39;00m\n\u001b[1;32m----> 3\u001b[0m change_str[\u001b[39m3\u001b[39;49m] \u001b[39m=\u001b[39m \u001b[39m\"\u001b[39m\u001b[39mi\u001b[39m\u001b[39m\"\u001b[39m \u001b[39m# produces an error\u001b[39;00m\n\u001b[0;32m      4\u001b[0m change_str\n",
      "\u001b[1;31mTypeError\u001b[0m: 'str' object does not support item assignment"
     ]
    }
   ],
   "source": [
    "#try replacing the X with an i:\n",
    "\n",
    "change_str[3] = \"i\" # produces an error\n",
    "change_str"
   ]
  },
  {
   "cell_type": "markdown",
   "metadata": {},
   "source": [
    "### Ordered vs. Unordered"
   ]
  },
  {
   "cell_type": "markdown",
   "metadata": {},
   "source": [
    "**Ordered** data types have a set \"order\" that can be used to index the elements by position. Ordered data types include:\n",
    "- `str`\n",
    "- `list`\n",
    "- `dict`*\n",
    "- `tuple`\n",
    "\n",
    "*dictionaries are indexed by keys\n",
    "\n",
    "**Unorded** data types do not have an order and can not be indexed. A `set` is unordered.\n"
   ]
  },
  {
   "cell_type": "code",
   "execution_count": null,
   "metadata": {},
   "outputs": [
    {
     "data": {
      "text/plain": [
       "'T'"
      ]
     },
     "execution_count": 79,
     "metadata": {},
     "output_type": "execute_result"
    }
   ],
   "source": [
    "# ordered\n",
    "str1[0]"
   ]
  },
  {
   "cell_type": "code",
   "execution_count": null,
   "metadata": {},
   "outputs": [
    {
     "ename": "TypeError",
     "evalue": "'set' object is not subscriptable",
     "output_type": "error",
     "traceback": [
      "\u001b[1;31m---------------------------------------------------------------------------\u001b[0m",
      "\u001b[1;31mTypeError\u001b[0m                                 Traceback (most recent call last)",
      "Cell \u001b[1;32mIn[80], line 2\u001b[0m\n\u001b[0;32m      1\u001b[0m \u001b[39m# unorded\u001b[39;00m\n\u001b[1;32m----> 2\u001b[0m set1[\u001b[39m0\u001b[39;49m] \u001b[39m# produces error\u001b[39;00m\n",
      "\u001b[1;31mTypeError\u001b[0m: 'set' object is not subscriptable"
     ]
    }
   ],
   "source": [
    "# unorded\n",
    "set1[0] # produces error"
   ]
  },
  {
   "cell_type": "markdown",
   "metadata": {},
   "source": [
    "### Indexing"
   ]
  },
  {
   "cell_type": "markdown",
   "metadata": {},
   "source": [
    "Remember Python indexing starts at 0, so the following string is indexed as follows:\n",
    "\n",
    "| H   | e   | l  | l  | o  |  _  | w  | o  | r  | l  | d  |\n",
    "|-----|-----|----|----|----|----|----|----|----|----|----|\n",
    "| 0   | 1   | 2  | 3  | 4  | 5  | 6  | 7  | 8  | 9  | 10 |\n",
    "\n",
    "\n",
    "You can also use negative indexing, which starts at -1 at the end. This can be helpful when trying to remove a file type (like .txt or .doc) from a strings of different lengths. \n",
    "\n",
    "| H   | e   | l  | l  | o  |  _  | w  | o  | r  | l  | d  |\n",
    "|-----|-----|----|----|----|----|----|----|----|----|----|\n",
    "| -11 | -10 | -9 | -8 | -7 | -6 | -5 | -4 | -3 | -2 | -1 |\n"
   ]
  },
  {
   "cell_type": "code",
   "execution_count": null,
   "metadata": {},
   "outputs": [
    {
     "data": {
      "text/plain": [
       "'string'"
      ]
     },
     "execution_count": 107,
     "metadata": {},
     "output_type": "execute_result"
    }
   ],
   "source": [
    "## To get an item using the index, use []\n",
    "list1[0]"
   ]
  },
  {
   "cell_type": "code",
   "execution_count": null,
   "metadata": {},
   "outputs": [
    {
     "data": {
      "text/plain": [
       "0"
      ]
     },
     "execution_count": 108,
     "metadata": {},
     "output_type": "execute_result"
    }
   ],
   "source": [
    "## To get the index of an item, use the .index() function\n",
    "list1.index(\"string\") # note: this returns the first index in the event of duplicate values"
   ]
  },
  {
   "cell_type": "markdown",
   "metadata": {},
   "source": [
    "You can also perform *slicing* using indexing to select a section using indexing. You can specify the staring point (inclusive) and the ending point (exclusive) (ex: `str1[start:end]`), or use a blank on either side of the : to signify 'the rest'."
   ]
  },
  {
   "cell_type": "code",
   "execution_count": 124,
   "metadata": {},
   "outputs": [
    {
     "name": "stdout",
     "output_type": "stream",
     "text": [
      "Hello\n",
      "Hello\n",
      "Hello\n",
      "rld\n",
      "rld\n",
      "rld\n"
     ]
    }
   ],
   "source": [
    "str2 = \"Hello world\"\n",
    "# print hello only\n",
    "print(str2[:5])\n",
    "print(str2[0:5])\n",
    "print(str2[:-6])\n",
    "\n",
    "# print last 3 characters\n",
    "print(str2[8:])\n",
    "print(str2[8:11])\n",
    "print(str2[-3:])\n"
   ]
  },
  {
   "cell_type": "markdown",
   "metadata": {},
   "source": [
    "## Functions"
   ]
  },
  {
   "cell_type": "markdown",
   "metadata": {},
   "source": [
    "Functions are blocks of code build by others than can be called with the name to perform a specific function. There are built in Python functions, but you can add more funtions to your environment by importing packages like `NumPy`, `pandas`, `scikitlearn`. Each has it's own focus and applications."
   ]
  },
  {
   "cell_type": "markdown",
   "metadata": {},
   "source": [
    "You use a function by calling its name, and usually providing some input into the () after the name. This input is usually refered to as the parameters or arguments of the function. See below for an example with the `type()` funtion."
   ]
  },
  {
   "cell_type": "code",
   "execution_count": null,
   "metadata": {},
   "outputs": [
    {
     "data": {
      "text/plain": [
       "str"
      ]
     },
     "execution_count": 81,
     "metadata": {},
     "output_type": "execute_result"
    }
   ],
   "source": [
    "type(str1)"
   ]
  },
  {
   "cell_type": "markdown",
   "metadata": {},
   "source": [
    "The name of the funtion is type and the input we supplied was the name of the variable. The funtion returns the data type of the input given, in this case, `str1` is a string."
   ]
  },
  {
   "cell_type": "markdown",
   "metadata": {},
   "source": [
    "Some functions must be called on an object like a variable or imported package. Here are a few examples of what that looks like:"
   ]
  },
  {
   "cell_type": "code",
   "execution_count": null,
   "metadata": {},
   "outputs": [
    {
     "data": {
      "text/plain": [
       "'THIS IS A STRING!'"
      ]
     },
     "execution_count": 82,
     "metadata": {},
     "output_type": "execute_result"
    }
   ],
   "source": [
    "## upper() is a string function that returns the characters in uppercase\n",
    "\n",
    "str1.upper()"
   ]
  },
  {
   "cell_type": "markdown",
   "metadata": {},
   "source": [
    "Note that `.upper()` returns the string in uppercase, but does not change the value associated with the variable. If you look at `str1` below, the value is still saved in it's original form. In order to change `str1` to the uppercase with this function, we would have to reassign it with `str1 = str1.upper()`."
   ]
  },
  {
   "cell_type": "code",
   "execution_count": 127,
   "metadata": {},
   "outputs": [
    {
     "data": {
      "text/plain": [
       "'This is a string!'"
      ]
     },
     "execution_count": 127,
     "metadata": {},
     "output_type": "execute_result"
    }
   ],
   "source": [
    "str1"
   ]
  },
  {
   "cell_type": "code",
   "execution_count": null,
   "metadata": {},
   "outputs": [
    {
     "data": {
      "text/plain": [
       "-1.1390874704254736"
      ]
     },
     "execution_count": 83,
     "metadata": {},
     "output_type": "execute_result"
    }
   ],
   "source": [
    "import numpy as np\n",
    "np.random.randn()"
   ]
  },
  {
   "cell_type": "markdown",
   "metadata": {},
   "source": [
    "In the above cell we call the random class from the package `NumPy` (more on classes another day!). \n",
    "\n",
    "This class has a function `randn()` that produces a random number. There are several functions in this class that produce a random number, `rand()`, `randint()`, `random()`, `random_sample()`... keeping track of these can be confusing.\n",
    "\n",
    "Luckily, there is **documentation** for each function that describes:\n",
    "- what it does\n",
    "- the output\n",
    "- the needed input (aka the parameters/arguments)\n",
    "- (usually) examples of using the function\n",
    "\n",
    "**Looking at documentation when coding is a best practice that you should get comfortable with. It is impossible to memorize all the functions in Python and the packages you will be using in Python. Being comfortable reading documentation is a vital piece of advancing your coding skills!**"
   ]
  },
  {
   "cell_type": "markdown",
   "metadata": {},
   "source": [
    "Using the documentation for this function, which can be found here (or by doing a quick internet search like \"numpy rand()\"): <https://numpy.org/doc/stable/reference/random/generated/numpy.random.randn.html>, we see that `randn()` returns a random number in the normal distribution, and when no paramters are given it returns 1 random number. We can specify a shape in the parameters to get more than one random number at once."
   ]
  },
  {
   "cell_type": "code",
   "execution_count": null,
   "metadata": {},
   "outputs": [
    {
     "data": {
      "text/plain": [
       "array([1.50731737, 1.33079246, 0.28209452, 2.01656177])"
      ]
     },
     "execution_count": 84,
     "metadata": {},
     "output_type": "execute_result"
    }
   ],
   "source": [
    "## create 4 random numbers\n",
    "np.random.randn(4)"
   ]
  },
  {
   "cell_type": "code",
   "execution_count": null,
   "metadata": {},
   "outputs": [
    {
     "data": {
      "text/plain": [
       "array([[ 1.87907759,  0.64492044,  0.9737197 ,  0.53478688,  1.32754913],\n",
       "       [-0.02541562,  0.10441653,  0.41760526, -1.52728176,  0.03234089],\n",
       "       [-0.67056772, -0.39175571,  1.64195986, -0.46026502,  0.51933922],\n",
       "       [ 0.6219907 ,  0.75851278,  0.34295221,  2.02804023,  1.38878079],\n",
       "       [-1.32568245, -0.61707722,  0.45354658, -0.40638547,  0.37373609]])"
      ]
     },
     "execution_count": 85,
     "metadata": {},
     "output_type": "execute_result"
    }
   ],
   "source": [
    "## create an 5x5 array of random numbers\n",
    "np.random.randn(5,5)"
   ]
  },
  {
   "cell_type": "markdown",
   "metadata": {},
   "source": [
    "## Sequencing"
   ]
  },
  {
   "cell_type": "markdown",
   "metadata": {},
   "source": [
    "When you write code, it executes from top to bottom. In the case of Jupyter notebooks, it executes in the order you play the cells. This is beneficial for learning to code and seeing output for small chunks of code, but you should still write your code so that it can be ran from top to bottom and produce the outcome you intended. See below for an example of how changing the order of code changes the outcome."
   ]
  },
  {
   "cell_type": "code",
   "execution_count": null,
   "metadata": {},
   "outputs": [
    {
     "name": "stdout",
     "output_type": "stream",
     "text": [
      "testtesttesttesttesttest\n",
      "a= 6\n",
      "b= 2\n"
     ]
    }
   ],
   "source": [
    "a = 3\n",
    "b = 2\n",
    "a *= b # a = a * b = 6\n",
    "c = \"test\"\n",
    "test_str = c * a # here a is now = 6\n",
    "\n",
    "print(test_str)\n",
    "print(\"a=\",a)\n",
    "print(\"b=\",b)"
   ]
  },
  {
   "cell_type": "code",
   "execution_count": null,
   "metadata": {},
   "outputs": [
    {
     "name": "stdout",
     "output_type": "stream",
     "text": [
      "testtesttest\n",
      "a= 6\n",
      "b= 2\n"
     ]
    }
   ],
   "source": [
    "a = 3\n",
    "b = 2\n",
    "c = \"test\"\n",
    "test_str = c * a # here a still = 3\n",
    "\n",
    "a *= b # a = a * b = 6\n",
    "\n",
    "print(test_str)\n",
    "print(\"a=\",a)\n",
    "print(\"b=\",b)"
   ]
  },
  {
   "cell_type": "markdown",
   "metadata": {},
   "source": [
    "Changing the position of `a *= b` in reference changes how `test_str` is assigned based on the present value of `a`. Notice that while `a` ends up being 6 by the end in both cases, `test_str` is different because of the chronological order of the code. Keep this in mind as you're building your code, and keep your code blocks in the order they should be run in!"
   ]
  },
  {
   "cell_type": "markdown",
   "metadata": {},
   "source": [
    "## Commenting"
   ]
  },
  {
   "cell_type": "markdown",
   "metadata": {},
   "source": [
    "Code is the way you tell your computer what to do, but code files are not just for computers to read. When you build your code, you should build it so that a human can read it as well. That human could be another person working on a project with you that needs to understand what you've done in order to contribute, another human helping you debug, or YOU days or weeks from now having completely forgotten what you were doing in your code."
   ]
  },
  {
   "cell_type": "markdown",
   "metadata": {},
   "source": [
    "**Commenting** is a way of adding plain text to your code to make it easily comprehensible to a human reading it. A rule of thumb I use is adding comments with the assumption that I will completely forget what I was trying to do the second I close my computer. This way, you provide enough detail that you can pick back up where you left off without having to trace through each line of code. Here are some ways you can add comments in your code."
   ]
  },
  {
   "cell_type": "markdown",
   "metadata": {},
   "source": [
    "#### Metadata"
   ]
  },
  {
   "cell_type": "code",
   "execution_count": 129,
   "metadata": {},
   "outputs": [],
   "source": [
    "'''\n",
    "Week2_Resources.ipynb\n",
    "Author: Ali Rivera\n",
    "Last update:   9/11/23\n",
    "\n",
    "Document outlining foundational Python elements including data types, functions, and best practices.\n",
    "'''\n",
    "\n",
    "# import packages \n",
    "## a few examples of common package imports\n",
    "import numpy as np\n",
    "import math\n",
    "import pandas as pd\n"
   ]
  },
  {
   "cell_type": "markdown",
   "metadata": {},
   "source": [
    "Usually at the top of a code file you'll have a section of metadata (data about the file) with the file name, author, date, and a description. Following this you would have all your package imports that you use throughout the file. This is not mandatory, but is good practice to keep your code organized."
   ]
  },
  {
   "cell_type": "markdown",
   "metadata": {},
   "source": [
    "#### Ways to comment/markup your code"
   ]
  },
  {
   "cell_type": "code",
   "execution_count": null,
   "metadata": {},
   "outputs": [],
   "source": [
    "# you can also add comments with a #\n",
    "##You can add additional # or use spacing to help organize your comments\n",
    "\n",
    "some_variable = True # you can also add comments on a line of code - anything after the # will be a comment!"
   ]
  },
  {
   "cell_type": "markdown",
   "metadata": {},
   "source": [
    "You can also add markdown cells for longer form comments.\n",
    "\n",
    "In a markdown cell, you can use formatting like:\n",
    "- *italics*, \n",
    "- **bold**, \n",
    "- ***bold italics***,\n",
    "- `code`, \n",
    "- equations $e=mc^2$ and more. \n",
    "\n",
    "Double click on this cell to see how this formatting is applied."
   ]
  },
  {
   "cell_type": "markdown",
   "metadata": {},
   "source": [
    "The # can be used to create Titles and Subtitles in a markdown cell. One # is a main title, additional # make subtitles. Click on on of the section titles in this notebook to see an example!\n",
    "\n",
    "For more information on markdown formatting, check out this page: https://www.markdownguide.org/cheat-sheet"
   ]
  },
  {
   "cell_type": "markdown",
   "metadata": {},
   "source": [
    "## Next Steps"
   ]
  },
  {
   "cell_type": "markdown",
   "metadata": {},
   "source": [
    "The best way to get better at coding is to do it. Try these problems from W3Schools to practice using different data types and associated functions. As you go, practice looking up documentation for the things you don't know or aren't sure of.\n",
    "\n",
    "https://www.w3schools.com/python/exercise.asp"
   ]
  },
  {
   "cell_type": "markdown",
   "metadata": {},
   "source": [
    "# Additional Resources\n",
    "\n",
    "Python Cheat sheets from Data Camp: https://www.datacamp.com/cheat-sheet/getting-started-with-python-cheat-sheet \n",
    "\n",
    "*Data camp is also a great resource for additional instruction, examples, and practice problems. This is a paid service but the cheatsheets are free!*\n"
   ]
  },
  {
   "cell_type": "markdown",
   "metadata": {},
   "source": []
  }
 ],
 "metadata": {
  "kernelspec": {
   "display_name": "base",
   "language": "python",
   "name": "python3"
  },
  "language_info": {
   "codemirror_mode": {
    "name": "ipython",
    "version": 3
   },
   "file_extension": ".py",
   "mimetype": "text/x-python",
   "name": "python",
   "nbconvert_exporter": "python",
   "pygments_lexer": "ipython3",
   "version": "3.11.4"
  },
  "orig_nbformat": 4
 },
 "nbformat": 4,
 "nbformat_minor": 2
}
