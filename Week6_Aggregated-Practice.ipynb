{
 "cells": [
  {
   "cell_type": "markdown",
   "metadata": {},
   "source": [
    "# Week 6\n",
    "\n",
    "You've learned a lot of Python this semester! The best way to get good at advanced topics is to have a solid foundation in the \"basics\". Here are some of the practice resources I've shared throughout the semester (with a fun NumPy bonus!). I encourage you to revist them - particularly the places you find uncomfortable - and continue using documentation in your coding practice. "
   ]
  },
  {
   "cell_type": "markdown",
   "metadata": {},
   "source": [
    "[Data Types and their functions](https://www.w3schools.com/python/exercise.asp)\n",
    "- For help with: Python syntax, data types, functions associated with specific data types.\n",
    "\n",
    "[Numpy](https://www.w3resource.com/python-exercises/numpy/index.php)\n",
    "- For help with: all things NumPy: data types, syntax, arrays, math operations, and more advanced topics if you're looking for a challenge!\n",
    "\n",
    "[Pandas](https://www.machinelearningplus.com/python/101-pandas-exercises-python/)\n",
    "- For help with: Pandas data types, syntax, datafram/series operations and functions.\n",
    "\n",
    "[Loops](https://pynative.com/python-if-else-and-for-loop-exercise-with-solutions/)\n",
    "- For help with: Writing for loops (syntax & logic).\n",
    "\n",
    "[Writing Functions](https://pynative.com/python-functions-exercise-with-solutions/)\n",
    "- For help with: Writing functions (syntax & logic).\n",
    "\n",
    "[Recursion](https://pythonmania.org/functions/python-recursion-practice-problems-with-solutions/)\n",
    "- For help with: Writing recursive functions (a function that calls itself!)."
   ]
  }
 ],
 "metadata": {
  "language_info": {
   "name": "python"
  }
 },
 "nbformat": 4,
 "nbformat_minor": 2
}
